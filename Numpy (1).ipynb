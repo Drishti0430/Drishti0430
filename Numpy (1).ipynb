{
 "cells": [
  {
   "cell_type": "markdown",
   "id": "25b29321",
   "metadata": {},
   "source": [
    " <center><h1>Numpy</h1></center> \n"
   ]
  },
  {
   "cell_type": "markdown",
   "id": "d51c5108",
   "metadata": {},
   "source": [
    " # What is NumPy?\n",
    " - NumPy is the fundamental package for scientific computing in Python.\n",
    " - Python library that provides a multidimensional array object.\n",
    " - Various derived objects (such as masked arrays and matrices), and an assortment of routines for fast operations on arrays,      including mathematical, logical, shape manipulation, sorting, selecting, I/O, discrete Fourier transforms, basic linear          algebra, basic statistical operations, random simulation and much more."
   ]
  },
  {
   "cell_type": "markdown",
   "id": "2716caff",
   "metadata": {},
   "source": [
    "<img src=\"https://www.adaca.com/wp-content/uploads/2024/07/1_CAxQI26_Tco3gOy9PHU_cg.jpg\" alt=\"Alt text\" style=\"width:300px;\"/>"
   ]
  },
  {
   "cell_type": "markdown",
   "id": "88364763",
   "metadata": {},
   "source": [
    "## Characteristrics :\n",
    "- NumPy arrays have a fixed size at creation, unlike Python lists (which can grow dynamically). Changing the size of an ndarray will create a new array and delete the original.\n",
    "- The elements in a NumPy array are all required to be of the same data type, and thus will be the same size in memory. "
   ]
  },
  {
   "cell_type": "markdown",
   "id": "b326e5a6",
   "metadata": {},
   "source": [
    "# Why use NumPy?\n",
    "we can improve speed, reduce memory consumption, and offer a high-level syntax for performing a variety of common processing tasks. NumPy shines when there are large quantities of “homogeneous” (same-type) data to be processed on the CPU."
   ]
  },
  {
   "cell_type": "markdown",
   "id": "b0c88ad9",
   "metadata": {},
   "source": [
    "# Why is NumPy fast?\n",
    "\n",
    "- vectorized code is more concise and easier to read\n",
    "- fewer lines of code generally means fewer bugs\n",
    "- the code more closely resembles standard mathematical notation (making it easier, typically, to correctly code mathematical constructs)"
   ]
  },
  {
   "cell_type": "markdown",
   "id": "e1905aac",
   "metadata": {},
   "source": [
    "# Installing NumPy\n",
    "- NumPy can be installed with conda, with pip, with a package manager on macOS and Linux, or from source. For more detailed instructions, consult our Python and NumPy installation guide below.\n",
    "- CONDA If you use conda, you can install NumPy from the defaults or conda-forge channels:"
   ]
  },
  {
   "cell_type": "markdown",
   "id": "7ee36635",
   "metadata": {},
   "source": [
    "## Installation commands\n",
    "- The actual install command conda install numpy\n",
    "- pip install numpy"
   ]
  },
  {
   "cell_type": "markdown",
   "id": "c52631ca",
   "metadata": {},
   "source": [
    "<img src=\"https://scaler.com/topics/images/type-pip-install-numpy.webp\" alt=\"pip command\" style=\"width:500px;\"/>\n"
   ]
  },
  {
   "cell_type": "markdown",
   "id": "4b4fb197",
   "metadata": {},
   "source": [
    "# Beginning users\n",
    "(On all of Windows, macOS, and Linux):\n",
    "\n",
    "Install Anaconda (it installs all packages you need and all other tools mentioned below).\n",
    "For writing and executing code, use notebooks in JupyterLab for exploratory and interactive computing, and Spyder or Visual Studio Code for writing scripts and packages.\n",
    "Use Anaconda Navigator to manage your packages and start JupyterLab, Spyder, or Visual Studio Code.\n"
   ]
  },
  {
   "cell_type": "markdown",
   "id": "08df1d37",
   "metadata": {},
   "source": [
    "# Advanced users\n",
    "Conda\n",
    "Install Miniforge.\n",
    "Keep the base conda environment minimal, and use one or more conda environments to install the package you need for the task or project you’re working on."
   ]
  },
  {
   "cell_type": "markdown",
   "id": "a3e554de",
   "metadata": {},
   "source": [
    "# Troubleshooting\n",
    "- If your installation fails with the message below, see <U>Troubleshooting ImportError</U>."
   ]
  }
 ],
 "metadata": {
  "kernelspec": {
   "display_name": "Python 3 (ipykernel)",
   "language": "python",
   "name": "python3"
  },
  "language_info": {
   "codemirror_mode": {
    "name": "ipython",
    "version": 3
   },
   "file_extension": ".py",
   "mimetype": "text/x-python",
   "name": "python",
   "nbconvert_exporter": "python",
   "pygments_lexer": "ipython3",
   "version": "3.11.9"
  },
  "toc": {
   "base_numbering": 1,
   "nav_menu": {},
   "number_sections": true,
   "sideBar": true,
   "skip_h1_title": false,
   "title_cell": "Table of Contents",
   "title_sidebar": "Contents",
   "toc_cell": false,
   "toc_position": {},
   "toc_section_display": true,
   "toc_window_display": false
  }
 },
 "nbformat": 4,
 "nbformat_minor": 5
}
